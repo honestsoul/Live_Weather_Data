{
 "cells": [
  {
   "cell_type": "code",
   "execution_count": 204,
   "metadata": {
    "collapsed": true
   },
   "outputs": [],
   "source": [
    "import pandas as pd\n",
    "import numpy as np\n",
    "from datetime import timedelta, date"
   ]
  },
  {
   "cell_type": "code",
   "execution_count": 205,
   "metadata": {
    "collapsed": false
   },
   "outputs": [],
   "source": [
    "customers =  pd.read_csv(\"C:\\\\Users\\\\M71846\\\\Desktop\\\\customers.csv\")\n",
    "orders = pd.read_csv(\"C:\\\\Users\\\\M71846\\\\Desktop\\\\orders.csv\")"
   ]
  },
  {
   "cell_type": "code",
   "execution_count": 188,
   "metadata": {
    "collapsed": true
   },
   "outputs": [],
   "source": [
    "customers['created'] = pd.to_datetime(customers['created'])"
   ]
  },
  {
   "cell_type": "code",
   "execution_count": 189,
   "metadata": {
    "collapsed": false
   },
   "outputs": [],
   "source": [
    "date1 = customers[:1]['created'].tolist()\n",
    "date2 = customers[-2:-1]['created'].tolist()"
   ]
  },
  {
   "cell_type": "code",
   "execution_count": 206,
   "metadata": {
    "collapsed": false
   },
   "outputs": [],
   "source": [
    "customers['id'] = customers['id'].astype(str)\n",
    "customers['id'] = customers['id'].str.strip()\n",
    "orders['user_id'] = orders['user_id'].astype(str)\n",
    "orders['user_id'] = orders['user_id'].str.strip()"
   ]
  },
  {
   "cell_type": "code",
   "execution_count": 55,
   "metadata": {
    "collapsed": false
   },
   "outputs": [],
   "source": [
    "customers =  pd.read_csv(\"C:\\\\Users\\\\M71846\\\\Desktop\\\\customers.csv\")\n",
    "orders = pd.read_csv(\"C:\\\\Users\\\\M71846\\\\Desktop\\\\orders.csv\")"
   ]
  },
  {
   "cell_type": "code",
   "execution_count": 207,
   "metadata": {
    "collapsed": true
   },
   "outputs": [],
   "source": [
    "df = pd.merge(customers,orders , how = 'left',left_on = 'id',right_on = 'user_id')"
   ]
  },
  {
   "cell_type": "code",
   "execution_count": 208,
   "metadata": {
    "collapsed": false
   },
   "outputs": [],
   "source": [
    "df = df[['id_x','created_x','order_number','created_y']]\n",
    "df.rename(columns = {'id_x':'user_id','created_x':'signup_date','created_y':'order_date'},inplace = True)"
   ]
  },
  {
   "cell_type": "code",
   "execution_count": 209,
   "metadata": {
    "collapsed": false
   },
   "outputs": [],
   "source": [
    "df.sort_values(['signup_date'], ascending = False).head()\n",
    "df['signup_date'] = pd.to_datetime(df['signup_date'])\n",
    "df['order_date'] = pd.to_datetime(df['order_date'])"
   ]
  },
  {
   "cell_type": "code",
   "execution_count": 210,
   "metadata": {
    "collapsed": true
   },
   "outputs": [],
   "source": [
    "df['signup_date1'] = pd.DatetimeIndex(df.signup_date).normalize()"
   ]
  },
  {
   "cell_type": "code",
   "execution_count": 211,
   "metadata": {
    "collapsed": true
   },
   "outputs": [],
   "source": [
    "df['order_date1'] = pd.DatetimeIndex(df.order_date).normalize()"
   ]
  },
  {
   "cell_type": "code",
   "execution_count": 212,
   "metadata": {
    "collapsed": false
   },
   "outputs": [],
   "source": [
    "df = df[['user_id','order_number','signup_date1','order_date1']]"
   ]
  },
  {
   "cell_type": "code",
   "execution_count": 247,
   "metadata": {
    "collapsed": false
   },
   "outputs": [],
   "source": [
    "#f['diff']  = df['order_date1'] - df['signup_date1']\n",
    "df['diff'] = df['order_date1'].sub(df['signup_date1'], fill_value=0)"
   ]
  },
  {
   "cell_type": "code",
   "execution_count": 255,
   "metadata": {
    "collapsed": false
   },
   "outputs": [
    {
     "data": {
      "text/html": [
       "<div>\n",
       "<table border=\"1\" class=\"dataframe\">\n",
       "  <thead>\n",
       "    <tr style=\"text-align: right;\">\n",
       "      <th></th>\n",
       "      <th>user_id</th>\n",
       "      <th>order_number</th>\n",
       "      <th>signup_date1</th>\n",
       "      <th>order_date1</th>\n",
       "      <th>diff</th>\n",
       "      <th>date_range</th>\n",
       "    </tr>\n",
       "  </thead>\n",
       "  <tbody>\n",
       "    <tr>\n",
       "      <th>0</th>\n",
       "      <td>35410</td>\n",
       "      <td>NaN</td>\n",
       "      <td>2015-07-03</td>\n",
       "      <td>NaT</td>\n",
       "      <td>-16619</td>\n",
       "      <td>0</td>\n",
       "    </tr>\n",
       "    <tr>\n",
       "      <th>1</th>\n",
       "      <td>35417</td>\n",
       "      <td>NaN</td>\n",
       "      <td>2015-07-03</td>\n",
       "      <td>NaT</td>\n",
       "      <td>-16619</td>\n",
       "      <td>0</td>\n",
       "    </tr>\n",
       "    <tr>\n",
       "      <th>2</th>\n",
       "      <td>35412</td>\n",
       "      <td>NaN</td>\n",
       "      <td>2015-07-03</td>\n",
       "      <td>NaT</td>\n",
       "      <td>-16619</td>\n",
       "      <td>0</td>\n",
       "    </tr>\n",
       "    <tr>\n",
       "      <th>3</th>\n",
       "      <td>35413</td>\n",
       "      <td>NaN</td>\n",
       "      <td>2015-07-03</td>\n",
       "      <td>NaT</td>\n",
       "      <td>-16619</td>\n",
       "      <td>0</td>\n",
       "    </tr>\n",
       "    <tr>\n",
       "      <th>4</th>\n",
       "      <td>35424</td>\n",
       "      <td>1.0</td>\n",
       "      <td>2015-07-03</td>\n",
       "      <td>2015-07-03</td>\n",
       "      <td>0</td>\n",
       "      <td>0-6</td>\n",
       "    </tr>\n",
       "  </tbody>\n",
       "</table>\n",
       "</div>"
      ],
      "text/plain": [
       "  user_id  order_number signup_date1 order_date1   diff date_range\n",
       "0   35410           NaN   2015-07-03         NaT -16619          0\n",
       "1   35417           NaN   2015-07-03         NaT -16619          0\n",
       "2   35412           NaN   2015-07-03         NaT -16619          0\n",
       "3   35413           NaN   2015-07-03         NaT -16619          0\n",
       "4   35424           1.0   2015-07-03  2015-07-03      0        0-6"
      ]
     },
     "execution_count": 255,
     "metadata": {},
     "output_type": "execute_result"
    }
   ],
   "source": [
    "df.head()"
   ]
  },
  {
   "cell_type": "code",
   "execution_count": 310,
   "metadata": {
    "collapsed": false
   },
   "outputs": [],
   "source": [
    "def calculate_range(diff):\n",
    "    if diff < 0:\n",
    "        return '0'\n",
    "    if len(str(diff))>1:\n",
    "        if diff%10 != 0:\n",
    "            zing = int(str(diff)[0])+1\n",
    "        else:\n",
    "            zing = int(str(diff)[0])\n",
    "    else:\n",
    "        zing = 1\n",
    "    week = str(0+7*(zing-1)) +str('-')+str(6+7*(zing-1))\n",
    "    return week"
   ]
  },
  {
   "cell_type": "code",
   "execution_count": 226,
   "metadata": {
    "collapsed": true
   },
   "outputs": [],
   "source": [
    "df['diff'] =  df['diff'].fillna(pd.NaT)"
   ]
  },
  {
   "cell_type": "code",
   "execution_count": 231,
   "metadata": {
    "collapsed": false
   },
   "outputs": [],
   "source": [
    "#df['diff'].fillna(pd.NaT).T"
   ]
  },
  {
   "cell_type": "code",
   "execution_count": 311,
   "metadata": {
    "collapsed": false
   },
   "outputs": [],
   "source": [
    "#df['diff'] =  df['diff'].dt.days\n",
    "df['date_range'] = df['diff'].apply(lambda x :calculate_range(x) )"
   ]
  },
  {
   "cell_type": "code",
   "execution_count": 312,
   "metadata": {
    "collapsed": false
   },
   "outputs": [
    {
     "data": {
      "text/html": [
       "<div>\n",
       "<table border=\"1\" class=\"dataframe\">\n",
       "  <thead>\n",
       "    <tr style=\"text-align: right;\">\n",
       "      <th></th>\n",
       "      <th>user_id</th>\n",
       "      <th>order_number</th>\n",
       "      <th>signup_date1</th>\n",
       "      <th>order_date1</th>\n",
       "      <th>diff</th>\n",
       "      <th>date_range</th>\n",
       "    </tr>\n",
       "  </thead>\n",
       "  <tbody>\n",
       "    <tr>\n",
       "      <th>0</th>\n",
       "      <td>35410</td>\n",
       "      <td>NaN</td>\n",
       "      <td>2015-07-03</td>\n",
       "      <td>NaT</td>\n",
       "      <td>-16619</td>\n",
       "      <td>0</td>\n",
       "    </tr>\n",
       "    <tr>\n",
       "      <th>1</th>\n",
       "      <td>35417</td>\n",
       "      <td>NaN</td>\n",
       "      <td>2015-07-03</td>\n",
       "      <td>NaT</td>\n",
       "      <td>-16619</td>\n",
       "      <td>0</td>\n",
       "    </tr>\n",
       "    <tr>\n",
       "      <th>2</th>\n",
       "      <td>35412</td>\n",
       "      <td>NaN</td>\n",
       "      <td>2015-07-03</td>\n",
       "      <td>NaT</td>\n",
       "      <td>-16619</td>\n",
       "      <td>0</td>\n",
       "    </tr>\n",
       "    <tr>\n",
       "      <th>3</th>\n",
       "      <td>35413</td>\n",
       "      <td>NaN</td>\n",
       "      <td>2015-07-03</td>\n",
       "      <td>NaT</td>\n",
       "      <td>-16619</td>\n",
       "      <td>0</td>\n",
       "    </tr>\n",
       "    <tr>\n",
       "      <th>4</th>\n",
       "      <td>35424</td>\n",
       "      <td>1.0</td>\n",
       "      <td>2015-07-03</td>\n",
       "      <td>2015-07-03</td>\n",
       "      <td>0</td>\n",
       "      <td>0-6</td>\n",
       "    </tr>\n",
       "  </tbody>\n",
       "</table>\n",
       "</div>"
      ],
      "text/plain": [
       "  user_id  order_number signup_date1 order_date1   diff date_range\n",
       "0   35410           NaN   2015-07-03         NaT -16619          0\n",
       "1   35417           NaN   2015-07-03         NaT -16619          0\n",
       "2   35412           NaN   2015-07-03         NaT -16619          0\n",
       "3   35413           NaN   2015-07-03         NaT -16619          0\n",
       "4   35424           1.0   2015-07-03  2015-07-03      0        0-6"
      ]
     },
     "execution_count": 312,
     "metadata": {},
     "output_type": "execute_result"
    }
   ],
   "source": [
    "df.head()"
   ]
  },
  {
   "cell_type": "code",
   "execution_count": 313,
   "metadata": {
    "collapsed": false
   },
   "outputs": [],
   "source": [
    "df2 = df.sort_values(['date_range'])"
   ]
  },
  {
   "cell_type": "code",
   "execution_count": 314,
   "metadata": {
    "collapsed": false
   },
   "outputs": [],
   "source": [
    "df2['cohort'] = df2['signup_date1'].apply(lambda x : [y[0].strftime('%Y/%m/%d')+'-' + y[1].strftime('%Y/%m/%d') for y in reange_date if y[0]<=x<=y[1]][0])"
   ]
  },
  {
   "cell_type": "code",
   "execution_count": 260,
   "metadata": {
    "collapsed": true
   },
   "outputs": [],
   "source": [
    "date1 = df2[:1]['signup_date1'].tolist()[0]\n",
    "date2 = df2[-2:-1]['signup_date1'].tolist()[0]"
   ]
  },
  {
   "cell_type": "code",
   "execution_count": 258,
   "metadata": {
    "collapsed": false
   },
   "outputs": [],
   "source": [
    "def  cohort(date1,date2):\n",
    "    import datetime\n",
    "    range_list = []\n",
    "    #range2 = date.strftime('%Y/%m/%d')\n",
    "    while date1 > date2:\n",
    "        range2 = date1 - datetime.timedelta(6)\n",
    "        #range1 = r.strftime('%Y/%m/%d')\n",
    "        range_list.append((range2,date1))\n",
    "        date1 = range2 -datetime.timedelta(1)\n",
    "        #range12 = range1 + '-' +range2\n",
    "    return range_list"
   ]
  },
  {
   "cell_type": "code",
   "execution_count": 261,
   "metadata": {
    "collapsed": false
   },
   "outputs": [],
   "source": [
    "reange_date = cohort(date1,date2)"
   ]
  },
  {
   "cell_type": "code",
   "execution_count": 315,
   "metadata": {
    "collapsed": false
   },
   "outputs": [],
   "source": [
    "df2.sort_values(['cohort','date_range'],ascending = True,inplace = True)"
   ]
  },
  {
   "cell_type": "code",
   "execution_count": 316,
   "metadata": {
    "collapsed": false
   },
   "outputs": [
    {
     "data": {
      "text/plain": [
       "Index(['user_id', 'order_number', 'signup_date1', 'order_date1', 'diff',\n",
       "       'date_range', 'cohort'],\n",
       "      dtype='object')"
      ]
     },
     "execution_count": 316,
     "metadata": {},
     "output_type": "execute_result"
    }
   ],
   "source": [
    "df2.columns"
   ]
  },
  {
   "cell_type": "code",
   "execution_count": 473,
   "metadata": {
    "collapsed": false
   },
   "outputs": [],
   "source": [
    "df2 = df2[['order_number','date_range', 'cohort']]\n",
    "df3 =  df2"
   ]
  },
  {
   "cell_type": "code",
   "execution_count": 452,
   "metadata": {
    "collapsed": false
   },
   "outputs": [],
   "source": [
    "df3 = df2.groupby(['cohort','date_range']).count()\n"
   ]
  },
  {
   "cell_type": "code",
   "execution_count": 453,
   "metadata": {
    "collapsed": false
   },
   "outputs": [
    {
     "data": {
      "text/html": [
       "<div>\n",
       "<table border=\"1\" class=\"dataframe\">\n",
       "  <thead>\n",
       "    <tr style=\"text-align: right;\">\n",
       "      <th></th>\n",
       "      <th></th>\n",
       "      <th>order_number</th>\n",
       "    </tr>\n",
       "    <tr>\n",
       "      <th>cohort</th>\n",
       "      <th>date_range</th>\n",
       "      <th></th>\n",
       "    </tr>\n",
       "  </thead>\n",
       "  <tbody>\n",
       "    <tr>\n",
       "      <th rowspan=\"5\" valign=\"top\">2014/12/31-2015/01/06</th>\n",
       "      <th>0</th>\n",
       "      <td>0</td>\n",
       "    </tr>\n",
       "    <tr>\n",
       "      <th>0-6</th>\n",
       "      <td>54</td>\n",
       "    </tr>\n",
       "    <tr>\n",
       "      <th>14-20</th>\n",
       "      <td>17</td>\n",
       "    </tr>\n",
       "    <tr>\n",
       "      <th>21-27</th>\n",
       "      <td>14</td>\n",
       "    </tr>\n",
       "    <tr>\n",
       "      <th>28-34</th>\n",
       "      <td>10</td>\n",
       "    </tr>\n",
       "  </tbody>\n",
       "</table>\n",
       "</div>"
      ],
      "text/plain": [
       "                                  order_number\n",
       "cohort                date_range              \n",
       "2014/12/31-2015/01/06 0                      0\n",
       "                      0-6                   54\n",
       "                      14-20                 17\n",
       "                      21-27                 14\n",
       "                      28-34                 10"
      ]
     },
     "execution_count": 453,
     "metadata": {},
     "output_type": "execute_result"
    }
   ],
   "source": [
    "df3.head()"
   ]
  },
  {
   "cell_type": "code",
   "execution_count": 448,
   "metadata": {
    "collapsed": false
   },
   "outputs": [],
   "source": [
    "df4 = df3.unstack(level =1)"
   ]
  },
  {
   "cell_type": "code",
   "execution_count": 469,
   "metadata": {
    "collapsed": false
   },
   "outputs": [],
   "source": [
    "df4 = df3"
   ]
  },
  {
   "cell_type": "code",
   "execution_count": 470,
   "metadata": {
    "collapsed": false
   },
   "outputs": [
    {
     "data": {
      "text/plain": [
       "pandas.core.frame.DataFrame"
      ]
     },
     "execution_count": 470,
     "metadata": {},
     "output_type": "execute_result"
    }
   ],
   "source": [
    "type(df4\n",
    "    )"
   ]
  },
  {
   "cell_type": "code",
   "execution_count": 456,
   "metadata": {
    "collapsed": false
   },
   "outputs": [
    {
     "ename": "AttributeError",
     "evalue": "'Index' object has no attribute 'droplevel'",
     "output_type": "error",
     "traceback": [
      "\u001b[0;31m---------------------------------------------------------------------------\u001b[0m",
      "\u001b[0;31mAttributeError\u001b[0m                            Traceback (most recent call last)",
      "\u001b[0;32m<ipython-input-456-213f5e696485>\u001b[0m in \u001b[0;36m<module>\u001b[0;34m()\u001b[0m\n\u001b[0;32m----> 1\u001b[0;31m \u001b[0mdf4\u001b[0m\u001b[1;33m.\u001b[0m\u001b[0mcolumns\u001b[0m \u001b[1;33m=\u001b[0m \u001b[0mdf4\u001b[0m\u001b[1;33m.\u001b[0m\u001b[0mcolumns\u001b[0m\u001b[1;33m.\u001b[0m\u001b[0mdroplevel\u001b[0m\u001b[1;33m(\u001b[0m\u001b[1;33m)\u001b[0m\u001b[1;33m\u001b[0m\u001b[0m\n\u001b[0m",
      "\u001b[0;31mAttributeError\u001b[0m: 'Index' object has no attribute 'droplevel'"
     ]
    }
   ],
   "source": [
    "df4.columns = df4.columns.droplevel()"
   ]
  },
  {
   "cell_type": "code",
   "execution_count": 361,
   "metadata": {
    "collapsed": false
   },
   "outputs": [],
   "source": [
    "p = sorted(df4.columns.tolist())"
   ]
  },
  {
   "cell_type": "code",
   "execution_count": 441,
   "metadata": {
    "collapsed": false
   },
   "outputs": [],
   "source": [
    "df4.columns.name = None"
   ]
  },
  {
   "cell_type": "code",
   "execution_count": 389,
   "metadata": {
    "collapsed": false
   },
   "outputs": [],
   "source": [
    "df5 = df4.reset_index()"
   ]
  },
  {
   "cell_type": "code",
   "execution_count": 392,
   "metadata": {
    "collapsed": false
   },
   "outputs": [
    {
     "data": {
      "text/plain": [
       "Index(['cohort', '0', '0-6', '14-20', '21-27', '28-34', '35-41', '42-48',\n",
       "       '49-55', '56-62', '63-69', '7-13'],\n",
       "      dtype='object')"
      ]
     },
     "execution_count": 392,
     "metadata": {},
     "output_type": "execute_result"
    }
   ],
   "source": [
    "df5.columns"
   ]
  },
  {
   "cell_type": "code",
   "execution_count": 442,
   "metadata": {
    "collapsed": false
   },
   "outputs": [
    {
     "data": {
      "text/plain": [
       "Index(['0', '0-6', '14-20', '21-27', '28-34', '35-41', '42-48', '49-55',\n",
       "       '56-62', '63-69', '7-13'],\n",
       "      dtype='object')"
      ]
     },
     "execution_count": 442,
     "metadata": {},
     "output_type": "execute_result"
    }
   ],
   "source": [
    "df4.columns"
   ]
  },
  {
   "cell_type": "code",
   "execution_count": 394,
   "metadata": {
    "collapsed": true
   },
   "outputs": [],
   "source": [
    "del df4['0']"
   ]
  },
  {
   "cell_type": "code",
   "execution_count": 443,
   "metadata": {
    "collapsed": false
   },
   "outputs": [],
   "source": [
    "columns = sorted(df4.columns)"
   ]
  },
  {
   "cell_type": "code",
   "execution_count": 427,
   "metadata": {
    "collapsed": false
   },
   "outputs": [],
   "source": [
    "columns.insert(1,'7-13')"
   ]
  },
  {
   "cell_type": "code",
   "execution_count": 435,
   "metadata": {
    "collapsed": false
   },
   "outputs": [],
   "source": [
    "columns = columns[:-2]"
   ]
  },
  {
   "cell_type": "code",
   "execution_count": 436,
   "metadata": {
    "collapsed": true
   },
   "outputs": [],
   "source": [
    "df4 = df4[columns]"
   ]
  },
  {
   "cell_type": "code",
   "execution_count": 466,
   "metadata": {
    "collapsed": false
   },
   "outputs": [],
   "source": [
    "#df4.sort_index(ascending = False)"
   ]
  },
  {
   "cell_type": "code",
   "execution_count": 463,
   "metadata": {
    "collapsed": false
   },
   "outputs": [],
   "source": [
    "df4.reset_index(inplace = True)"
   ]
  },
  {
   "cell_type": "code",
   "execution_count": 474,
   "metadata": {
    "collapsed": false
   },
   "outputs": [
    {
     "data": {
      "text/html": [
       "<div>\n",
       "<table border=\"1\" class=\"dataframe\">\n",
       "  <thead>\n",
       "    <tr style=\"text-align: right;\">\n",
       "      <th></th>\n",
       "      <th>cohort</th>\n",
       "      <th>date_range</th>\n",
       "      <th>order_number</th>\n",
       "    </tr>\n",
       "  </thead>\n",
       "  <tbody>\n",
       "    <tr>\n",
       "      <th>0</th>\n",
       "      <td>2014/12/31-2015/01/06</td>\n",
       "      <td>0</td>\n",
       "      <td>0</td>\n",
       "    </tr>\n",
       "    <tr>\n",
       "      <th>1</th>\n",
       "      <td>2014/12/31-2015/01/06</td>\n",
       "      <td>0-6</td>\n",
       "      <td>54</td>\n",
       "    </tr>\n",
       "    <tr>\n",
       "      <th>2</th>\n",
       "      <td>2014/12/31-2015/01/06</td>\n",
       "      <td>14-20</td>\n",
       "      <td>17</td>\n",
       "    </tr>\n",
       "    <tr>\n",
       "      <th>3</th>\n",
       "      <td>2014/12/31-2015/01/06</td>\n",
       "      <td>21-27</td>\n",
       "      <td>14</td>\n",
       "    </tr>\n",
       "    <tr>\n",
       "      <th>4</th>\n",
       "      <td>2014/12/31-2015/01/06</td>\n",
       "      <td>28-34</td>\n",
       "      <td>10</td>\n",
       "    </tr>\n",
       "    <tr>\n",
       "      <th>5</th>\n",
       "      <td>2014/12/31-2015/01/06</td>\n",
       "      <td>35-41</td>\n",
       "      <td>12</td>\n",
       "    </tr>\n",
       "    <tr>\n",
       "      <th>6</th>\n",
       "      <td>2014/12/31-2015/01/06</td>\n",
       "      <td>42-48</td>\n",
       "      <td>6</td>\n",
       "    </tr>\n",
       "    <tr>\n",
       "      <th>7</th>\n",
       "      <td>2014/12/31-2015/01/06</td>\n",
       "      <td>49-55</td>\n",
       "      <td>6</td>\n",
       "    </tr>\n",
       "    <tr>\n",
       "      <th>8</th>\n",
       "      <td>2014/12/31-2015/01/06</td>\n",
       "      <td>56-62</td>\n",
       "      <td>11</td>\n",
       "    </tr>\n",
       "    <tr>\n",
       "      <th>9</th>\n",
       "      <td>2014/12/31-2015/01/06</td>\n",
       "      <td>63-69</td>\n",
       "      <td>10</td>\n",
       "    </tr>\n",
       "    <tr>\n",
       "      <th>10</th>\n",
       "      <td>2014/12/31-2015/01/06</td>\n",
       "      <td>7-13</td>\n",
       "      <td>92</td>\n",
       "    </tr>\n",
       "    <tr>\n",
       "      <th>11</th>\n",
       "      <td>2015/01/07-2015/01/13</td>\n",
       "      <td>0</td>\n",
       "      <td>0</td>\n",
       "    </tr>\n",
       "    <tr>\n",
       "      <th>12</th>\n",
       "      <td>2015/01/07-2015/01/13</td>\n",
       "      <td>0-6</td>\n",
       "      <td>411</td>\n",
       "    </tr>\n",
       "    <tr>\n",
       "      <th>13</th>\n",
       "      <td>2015/01/07-2015/01/13</td>\n",
       "      <td>14-20</td>\n",
       "      <td>155</td>\n",
       "    </tr>\n",
       "    <tr>\n",
       "      <th>14</th>\n",
       "      <td>2015/01/07-2015/01/13</td>\n",
       "      <td>21-27</td>\n",
       "      <td>124</td>\n",
       "    </tr>\n",
       "    <tr>\n",
       "      <th>15</th>\n",
       "      <td>2015/01/07-2015/01/13</td>\n",
       "      <td>28-34</td>\n",
       "      <td>129</td>\n",
       "    </tr>\n",
       "    <tr>\n",
       "      <th>16</th>\n",
       "      <td>2015/01/07-2015/01/13</td>\n",
       "      <td>35-41</td>\n",
       "      <td>141</td>\n",
       "    </tr>\n",
       "    <tr>\n",
       "      <th>17</th>\n",
       "      <td>2015/01/07-2015/01/13</td>\n",
       "      <td>42-48</td>\n",
       "      <td>131</td>\n",
       "    </tr>\n",
       "    <tr>\n",
       "      <th>18</th>\n",
       "      <td>2015/01/07-2015/01/13</td>\n",
       "      <td>49-55</td>\n",
       "      <td>93</td>\n",
       "    </tr>\n",
       "    <tr>\n",
       "      <th>19</th>\n",
       "      <td>2015/01/07-2015/01/13</td>\n",
       "      <td>56-62</td>\n",
       "      <td>96</td>\n",
       "    </tr>\n",
       "    <tr>\n",
       "      <th>20</th>\n",
       "      <td>2015/01/07-2015/01/13</td>\n",
       "      <td>63-69</td>\n",
       "      <td>87</td>\n",
       "    </tr>\n",
       "    <tr>\n",
       "      <th>21</th>\n",
       "      <td>2015/01/07-2015/01/13</td>\n",
       "      <td>7-13</td>\n",
       "      <td>831</td>\n",
       "    </tr>\n",
       "    <tr>\n",
       "      <th>22</th>\n",
       "      <td>2015/01/14-2015/01/20</td>\n",
       "      <td>0</td>\n",
       "      <td>0</td>\n",
       "    </tr>\n",
       "    <tr>\n",
       "      <th>23</th>\n",
       "      <td>2015/01/14-2015/01/20</td>\n",
       "      <td>0-6</td>\n",
       "      <td>279</td>\n",
       "    </tr>\n",
       "    <tr>\n",
       "      <th>24</th>\n",
       "      <td>2015/01/14-2015/01/20</td>\n",
       "      <td>14-20</td>\n",
       "      <td>67</td>\n",
       "    </tr>\n",
       "    <tr>\n",
       "      <th>25</th>\n",
       "      <td>2015/01/14-2015/01/20</td>\n",
       "      <td>21-27</td>\n",
       "      <td>72</td>\n",
       "    </tr>\n",
       "    <tr>\n",
       "      <th>26</th>\n",
       "      <td>2015/01/14-2015/01/20</td>\n",
       "      <td>28-34</td>\n",
       "      <td>109</td>\n",
       "    </tr>\n",
       "    <tr>\n",
       "      <th>27</th>\n",
       "      <td>2015/01/14-2015/01/20</td>\n",
       "      <td>35-41</td>\n",
       "      <td>85</td>\n",
       "    </tr>\n",
       "    <tr>\n",
       "      <th>28</th>\n",
       "      <td>2015/01/14-2015/01/20</td>\n",
       "      <td>42-48</td>\n",
       "      <td>72</td>\n",
       "    </tr>\n",
       "    <tr>\n",
       "      <th>29</th>\n",
       "      <td>2015/01/14-2015/01/20</td>\n",
       "      <td>49-55</td>\n",
       "      <td>68</td>\n",
       "    </tr>\n",
       "    <tr>\n",
       "      <th>...</th>\n",
       "      <td>...</td>\n",
       "      <td>...</td>\n",
       "      <td>...</td>\n",
       "    </tr>\n",
       "    <tr>\n",
       "      <th>206</th>\n",
       "      <td>2015/05/20-2015/05/26</td>\n",
       "      <td>0</td>\n",
       "      <td>0</td>\n",
       "    </tr>\n",
       "    <tr>\n",
       "      <th>207</th>\n",
       "      <td>2015/05/20-2015/05/26</td>\n",
       "      <td>0-6</td>\n",
       "      <td>192</td>\n",
       "    </tr>\n",
       "    <tr>\n",
       "      <th>208</th>\n",
       "      <td>2015/05/20-2015/05/26</td>\n",
       "      <td>14-20</td>\n",
       "      <td>64</td>\n",
       "    </tr>\n",
       "    <tr>\n",
       "      <th>209</th>\n",
       "      <td>2015/05/20-2015/05/26</td>\n",
       "      <td>21-27</td>\n",
       "      <td>62</td>\n",
       "    </tr>\n",
       "    <tr>\n",
       "      <th>210</th>\n",
       "      <td>2015/05/20-2015/05/26</td>\n",
       "      <td>28-34</td>\n",
       "      <td>33</td>\n",
       "    </tr>\n",
       "    <tr>\n",
       "      <th>211</th>\n",
       "      <td>2015/05/20-2015/05/26</td>\n",
       "      <td>7-13</td>\n",
       "      <td>71</td>\n",
       "    </tr>\n",
       "    <tr>\n",
       "      <th>212</th>\n",
       "      <td>2015/05/27-2015/06/02</td>\n",
       "      <td>0</td>\n",
       "      <td>0</td>\n",
       "    </tr>\n",
       "    <tr>\n",
       "      <th>213</th>\n",
       "      <td>2015/05/27-2015/06/02</td>\n",
       "      <td>0-6</td>\n",
       "      <td>174</td>\n",
       "    </tr>\n",
       "    <tr>\n",
       "      <th>214</th>\n",
       "      <td>2015/05/27-2015/06/02</td>\n",
       "      <td>14-20</td>\n",
       "      <td>57</td>\n",
       "    </tr>\n",
       "    <tr>\n",
       "      <th>215</th>\n",
       "      <td>2015/05/27-2015/06/02</td>\n",
       "      <td>21-27</td>\n",
       "      <td>45</td>\n",
       "    </tr>\n",
       "    <tr>\n",
       "      <th>216</th>\n",
       "      <td>2015/05/27-2015/06/02</td>\n",
       "      <td>28-34</td>\n",
       "      <td>1</td>\n",
       "    </tr>\n",
       "    <tr>\n",
       "      <th>217</th>\n",
       "      <td>2015/05/27-2015/06/02</td>\n",
       "      <td>7-13</td>\n",
       "      <td>71</td>\n",
       "    </tr>\n",
       "    <tr>\n",
       "      <th>218</th>\n",
       "      <td>2015/06/03-2015/06/09</td>\n",
       "      <td>0</td>\n",
       "      <td>0</td>\n",
       "    </tr>\n",
       "    <tr>\n",
       "      <th>219</th>\n",
       "      <td>2015/06/03-2015/06/09</td>\n",
       "      <td>0-6</td>\n",
       "      <td>190</td>\n",
       "    </tr>\n",
       "    <tr>\n",
       "      <th>220</th>\n",
       "      <td>2015/06/03-2015/06/09</td>\n",
       "      <td>14-20</td>\n",
       "      <td>60</td>\n",
       "    </tr>\n",
       "    <tr>\n",
       "      <th>221</th>\n",
       "      <td>2015/06/03-2015/06/09</td>\n",
       "      <td>21-27</td>\n",
       "      <td>12</td>\n",
       "    </tr>\n",
       "    <tr>\n",
       "      <th>222</th>\n",
       "      <td>2015/06/03-2015/06/09</td>\n",
       "      <td>7-13</td>\n",
       "      <td>76</td>\n",
       "    </tr>\n",
       "    <tr>\n",
       "      <th>223</th>\n",
       "      <td>2015/06/10-2015/06/16</td>\n",
       "      <td>0</td>\n",
       "      <td>0</td>\n",
       "    </tr>\n",
       "    <tr>\n",
       "      <th>224</th>\n",
       "      <td>2015/06/10-2015/06/16</td>\n",
       "      <td>0-6</td>\n",
       "      <td>200</td>\n",
       "    </tr>\n",
       "    <tr>\n",
       "      <th>225</th>\n",
       "      <td>2015/06/10-2015/06/16</td>\n",
       "      <td>14-20</td>\n",
       "      <td>32</td>\n",
       "    </tr>\n",
       "    <tr>\n",
       "      <th>226</th>\n",
       "      <td>2015/06/10-2015/06/16</td>\n",
       "      <td>7-13</td>\n",
       "      <td>64</td>\n",
       "    </tr>\n",
       "    <tr>\n",
       "      <th>227</th>\n",
       "      <td>2015/06/17-2015/06/23</td>\n",
       "      <td>0</td>\n",
       "      <td>0</td>\n",
       "    </tr>\n",
       "    <tr>\n",
       "      <th>228</th>\n",
       "      <td>2015/06/17-2015/06/23</td>\n",
       "      <td>0-6</td>\n",
       "      <td>217</td>\n",
       "    </tr>\n",
       "    <tr>\n",
       "      <th>229</th>\n",
       "      <td>2015/06/17-2015/06/23</td>\n",
       "      <td>14-20</td>\n",
       "      <td>1</td>\n",
       "    </tr>\n",
       "    <tr>\n",
       "      <th>230</th>\n",
       "      <td>2015/06/17-2015/06/23</td>\n",
       "      <td>7-13</td>\n",
       "      <td>50</td>\n",
       "    </tr>\n",
       "    <tr>\n",
       "      <th>231</th>\n",
       "      <td>2015/06/24-2015/06/30</td>\n",
       "      <td>0</td>\n",
       "      <td>0</td>\n",
       "    </tr>\n",
       "    <tr>\n",
       "      <th>232</th>\n",
       "      <td>2015/06/24-2015/06/30</td>\n",
       "      <td>0-6</td>\n",
       "      <td>163</td>\n",
       "    </tr>\n",
       "    <tr>\n",
       "      <th>233</th>\n",
       "      <td>2015/06/24-2015/06/30</td>\n",
       "      <td>7-13</td>\n",
       "      <td>12</td>\n",
       "    </tr>\n",
       "    <tr>\n",
       "      <th>234</th>\n",
       "      <td>2015/07/01-2015/07/07</td>\n",
       "      <td>0</td>\n",
       "      <td>0</td>\n",
       "    </tr>\n",
       "    <tr>\n",
       "      <th>235</th>\n",
       "      <td>2015/07/01-2015/07/07</td>\n",
       "      <td>0-6</td>\n",
       "      <td>186</td>\n",
       "    </tr>\n",
       "  </tbody>\n",
       "</table>\n",
       "<p>236 rows × 3 columns</p>\n",
       "</div>"
      ],
      "text/plain": [
       "                    cohort date_range  order_number\n",
       "0    2014/12/31-2015/01/06          0             0\n",
       "1    2014/12/31-2015/01/06        0-6            54\n",
       "2    2014/12/31-2015/01/06      14-20            17\n",
       "3    2014/12/31-2015/01/06      21-27            14\n",
       "4    2014/12/31-2015/01/06      28-34            10\n",
       "5    2014/12/31-2015/01/06      35-41            12\n",
       "6    2014/12/31-2015/01/06      42-48             6\n",
       "7    2014/12/31-2015/01/06      49-55             6\n",
       "8    2014/12/31-2015/01/06      56-62            11\n",
       "9    2014/12/31-2015/01/06      63-69            10\n",
       "10   2014/12/31-2015/01/06       7-13            92\n",
       "11   2015/01/07-2015/01/13          0             0\n",
       "12   2015/01/07-2015/01/13        0-6           411\n",
       "13   2015/01/07-2015/01/13      14-20           155\n",
       "14   2015/01/07-2015/01/13      21-27           124\n",
       "15   2015/01/07-2015/01/13      28-34           129\n",
       "16   2015/01/07-2015/01/13      35-41           141\n",
       "17   2015/01/07-2015/01/13      42-48           131\n",
       "18   2015/01/07-2015/01/13      49-55            93\n",
       "19   2015/01/07-2015/01/13      56-62            96\n",
       "20   2015/01/07-2015/01/13      63-69            87\n",
       "21   2015/01/07-2015/01/13       7-13           831\n",
       "22   2015/01/14-2015/01/20          0             0\n",
       "23   2015/01/14-2015/01/20        0-6           279\n",
       "24   2015/01/14-2015/01/20      14-20            67\n",
       "25   2015/01/14-2015/01/20      21-27            72\n",
       "26   2015/01/14-2015/01/20      28-34           109\n",
       "27   2015/01/14-2015/01/20      35-41            85\n",
       "28   2015/01/14-2015/01/20      42-48            72\n",
       "29   2015/01/14-2015/01/20      49-55            68\n",
       "..                     ...        ...           ...\n",
       "206  2015/05/20-2015/05/26          0             0\n",
       "207  2015/05/20-2015/05/26        0-6           192\n",
       "208  2015/05/20-2015/05/26      14-20            64\n",
       "209  2015/05/20-2015/05/26      21-27            62\n",
       "210  2015/05/20-2015/05/26      28-34            33\n",
       "211  2015/05/20-2015/05/26       7-13            71\n",
       "212  2015/05/27-2015/06/02          0             0\n",
       "213  2015/05/27-2015/06/02        0-6           174\n",
       "214  2015/05/27-2015/06/02      14-20            57\n",
       "215  2015/05/27-2015/06/02      21-27            45\n",
       "216  2015/05/27-2015/06/02      28-34             1\n",
       "217  2015/05/27-2015/06/02       7-13            71\n",
       "218  2015/06/03-2015/06/09          0             0\n",
       "219  2015/06/03-2015/06/09        0-6           190\n",
       "220  2015/06/03-2015/06/09      14-20            60\n",
       "221  2015/06/03-2015/06/09      21-27            12\n",
       "222  2015/06/03-2015/06/09       7-13            76\n",
       "223  2015/06/10-2015/06/16          0             0\n",
       "224  2015/06/10-2015/06/16        0-6           200\n",
       "225  2015/06/10-2015/06/16      14-20            32\n",
       "226  2015/06/10-2015/06/16       7-13            64\n",
       "227  2015/06/17-2015/06/23          0             0\n",
       "228  2015/06/17-2015/06/23        0-6           217\n",
       "229  2015/06/17-2015/06/23      14-20             1\n",
       "230  2015/06/17-2015/06/23       7-13            50\n",
       "231  2015/06/24-2015/06/30          0             0\n",
       "232  2015/06/24-2015/06/30        0-6           163\n",
       "233  2015/06/24-2015/06/30       7-13            12\n",
       "234  2015/07/01-2015/07/07          0             0\n",
       "235  2015/07/01-2015/07/07        0-6           186\n",
       "\n",
       "[236 rows x 3 columns]"
      ]
     },
     "execution_count": 474,
     "metadata": {},
     "output_type": "execute_result"
    }
   ],
   "source": [
    "df4"
   ]
  },
  {
   "cell_type": "code",
   "execution_count": 475,
   "metadata": {
    "collapsed": false
   },
   "outputs": [
    {
     "data": {
      "text/html": [
       "<div>\n",
       "<table border=\"1\" class=\"dataframe\">\n",
       "  <thead>\n",
       "    <tr style=\"text-align: right;\">\n",
       "      <th>date_range</th>\n",
       "      <th>0</th>\n",
       "      <th>0-6</th>\n",
       "      <th>14-20</th>\n",
       "      <th>21-27</th>\n",
       "      <th>28-34</th>\n",
       "      <th>35-41</th>\n",
       "      <th>42-48</th>\n",
       "      <th>49-55</th>\n",
       "      <th>56-62</th>\n",
       "      <th>63-69</th>\n",
       "      <th>7-13</th>\n",
       "    </tr>\n",
       "    <tr>\n",
       "      <th>cohort</th>\n",
       "      <th></th>\n",
       "      <th></th>\n",
       "      <th></th>\n",
       "      <th></th>\n",
       "      <th></th>\n",
       "      <th></th>\n",
       "      <th></th>\n",
       "      <th></th>\n",
       "      <th></th>\n",
       "      <th></th>\n",
       "      <th></th>\n",
       "    </tr>\n",
       "  </thead>\n",
       "  <tbody>\n",
       "    <tr>\n",
       "      <th>2014/12/31-2015/01/06</th>\n",
       "      <td>0.0</td>\n",
       "      <td>54.0</td>\n",
       "      <td>17.0</td>\n",
       "      <td>14.0</td>\n",
       "      <td>10.0</td>\n",
       "      <td>12.0</td>\n",
       "      <td>6.0</td>\n",
       "      <td>6.0</td>\n",
       "      <td>11.0</td>\n",
       "      <td>10.0</td>\n",
       "      <td>92.0</td>\n",
       "    </tr>\n",
       "    <tr>\n",
       "      <th>2015/01/07-2015/01/13</th>\n",
       "      <td>0.0</td>\n",
       "      <td>411.0</td>\n",
       "      <td>155.0</td>\n",
       "      <td>124.0</td>\n",
       "      <td>129.0</td>\n",
       "      <td>141.0</td>\n",
       "      <td>131.0</td>\n",
       "      <td>93.0</td>\n",
       "      <td>96.0</td>\n",
       "      <td>87.0</td>\n",
       "      <td>831.0</td>\n",
       "    </tr>\n",
       "    <tr>\n",
       "      <th>2015/01/14-2015/01/20</th>\n",
       "      <td>0.0</td>\n",
       "      <td>279.0</td>\n",
       "      <td>67.0</td>\n",
       "      <td>72.0</td>\n",
       "      <td>109.0</td>\n",
       "      <td>85.0</td>\n",
       "      <td>72.0</td>\n",
       "      <td>68.0</td>\n",
       "      <td>65.0</td>\n",
       "      <td>61.0</td>\n",
       "      <td>474.0</td>\n",
       "    </tr>\n",
       "    <tr>\n",
       "      <th>2015/01/21-2015/01/27</th>\n",
       "      <td>0.0</td>\n",
       "      <td>374.0</td>\n",
       "      <td>121.0</td>\n",
       "      <td>113.0</td>\n",
       "      <td>107.0</td>\n",
       "      <td>105.0</td>\n",
       "      <td>97.0</td>\n",
       "      <td>90.0</td>\n",
       "      <td>99.0</td>\n",
       "      <td>89.0</td>\n",
       "      <td>551.0</td>\n",
       "    </tr>\n",
       "    <tr>\n",
       "      <th>2015/01/28-2015/02/03</th>\n",
       "      <td>0.0</td>\n",
       "      <td>200.0</td>\n",
       "      <td>55.0</td>\n",
       "      <td>62.0</td>\n",
       "      <td>60.0</td>\n",
       "      <td>48.0</td>\n",
       "      <td>52.0</td>\n",
       "      <td>54.0</td>\n",
       "      <td>54.0</td>\n",
       "      <td>38.0</td>\n",
       "      <td>311.0</td>\n",
       "    </tr>\n",
       "    <tr>\n",
       "      <th>2015/02/04-2015/02/10</th>\n",
       "      <td>0.0</td>\n",
       "      <td>145.0</td>\n",
       "      <td>35.0</td>\n",
       "      <td>33.0</td>\n",
       "      <td>33.0</td>\n",
       "      <td>25.0</td>\n",
       "      <td>40.0</td>\n",
       "      <td>31.0</td>\n",
       "      <td>45.0</td>\n",
       "      <td>36.0</td>\n",
       "      <td>168.0</td>\n",
       "    </tr>\n",
       "    <tr>\n",
       "      <th>2015/02/11-2015/02/17</th>\n",
       "      <td>0.0</td>\n",
       "      <td>98.0</td>\n",
       "      <td>35.0</td>\n",
       "      <td>28.0</td>\n",
       "      <td>35.0</td>\n",
       "      <td>24.0</td>\n",
       "      <td>23.0</td>\n",
       "      <td>28.0</td>\n",
       "      <td>21.0</td>\n",
       "      <td>14.0</td>\n",
       "      <td>147.0</td>\n",
       "    </tr>\n",
       "    <tr>\n",
       "      <th>2015/02/18-2015/02/24</th>\n",
       "      <td>0.0</td>\n",
       "      <td>134.0</td>\n",
       "      <td>47.0</td>\n",
       "      <td>38.0</td>\n",
       "      <td>38.0</td>\n",
       "      <td>32.0</td>\n",
       "      <td>37.0</td>\n",
       "      <td>29.0</td>\n",
       "      <td>34.0</td>\n",
       "      <td>28.0</td>\n",
       "      <td>169.0</td>\n",
       "    </tr>\n",
       "    <tr>\n",
       "      <th>2015/02/25-2015/03/03</th>\n",
       "      <td>0.0</td>\n",
       "      <td>301.0</td>\n",
       "      <td>92.0</td>\n",
       "      <td>92.0</td>\n",
       "      <td>86.0</td>\n",
       "      <td>84.0</td>\n",
       "      <td>81.0</td>\n",
       "      <td>71.0</td>\n",
       "      <td>62.0</td>\n",
       "      <td>63.0</td>\n",
       "      <td>295.0</td>\n",
       "    </tr>\n",
       "    <tr>\n",
       "      <th>2015/03/04-2015/03/10</th>\n",
       "      <td>0.0</td>\n",
       "      <td>262.0</td>\n",
       "      <td>81.0</td>\n",
       "      <td>58.0</td>\n",
       "      <td>70.0</td>\n",
       "      <td>63.0</td>\n",
       "      <td>77.0</td>\n",
       "      <td>47.0</td>\n",
       "      <td>58.0</td>\n",
       "      <td>47.0</td>\n",
       "      <td>216.0</td>\n",
       "    </tr>\n",
       "    <tr>\n",
       "      <th>2015/03/11-2015/03/17</th>\n",
       "      <td>0.0</td>\n",
       "      <td>151.0</td>\n",
       "      <td>50.0</td>\n",
       "      <td>47.0</td>\n",
       "      <td>45.0</td>\n",
       "      <td>46.0</td>\n",
       "      <td>39.0</td>\n",
       "      <td>37.0</td>\n",
       "      <td>35.0</td>\n",
       "      <td>34.0</td>\n",
       "      <td>115.0</td>\n",
       "    </tr>\n",
       "    <tr>\n",
       "      <th>2015/03/18-2015/03/24</th>\n",
       "      <td>0.0</td>\n",
       "      <td>130.0</td>\n",
       "      <td>43.0</td>\n",
       "      <td>53.0</td>\n",
       "      <td>43.0</td>\n",
       "      <td>31.0</td>\n",
       "      <td>40.0</td>\n",
       "      <td>37.0</td>\n",
       "      <td>56.0</td>\n",
       "      <td>36.0</td>\n",
       "      <td>69.0</td>\n",
       "    </tr>\n",
       "    <tr>\n",
       "      <th>2015/03/25-2015/03/31</th>\n",
       "      <td>0.0</td>\n",
       "      <td>113.0</td>\n",
       "      <td>51.0</td>\n",
       "      <td>33.0</td>\n",
       "      <td>45.0</td>\n",
       "      <td>35.0</td>\n",
       "      <td>34.0</td>\n",
       "      <td>47.0</td>\n",
       "      <td>37.0</td>\n",
       "      <td>38.0</td>\n",
       "      <td>52.0</td>\n",
       "    </tr>\n",
       "    <tr>\n",
       "      <th>2015/04/01-2015/04/07</th>\n",
       "      <td>0.0</td>\n",
       "      <td>121.0</td>\n",
       "      <td>59.0</td>\n",
       "      <td>48.0</td>\n",
       "      <td>52.0</td>\n",
       "      <td>50.0</td>\n",
       "      <td>55.0</td>\n",
       "      <td>50.0</td>\n",
       "      <td>38.0</td>\n",
       "      <td>28.0</td>\n",
       "      <td>52.0</td>\n",
       "    </tr>\n",
       "    <tr>\n",
       "      <th>2015/04/08-2015/04/14</th>\n",
       "      <td>0.0</td>\n",
       "      <td>107.0</td>\n",
       "      <td>38.0</td>\n",
       "      <td>48.0</td>\n",
       "      <td>31.0</td>\n",
       "      <td>28.0</td>\n",
       "      <td>41.0</td>\n",
       "      <td>38.0</td>\n",
       "      <td>25.0</td>\n",
       "      <td>NaN</td>\n",
       "      <td>56.0</td>\n",
       "    </tr>\n",
       "    <tr>\n",
       "      <th>2015/04/15-2015/04/21</th>\n",
       "      <td>0.0</td>\n",
       "      <td>109.0</td>\n",
       "      <td>42.0</td>\n",
       "      <td>31.0</td>\n",
       "      <td>32.0</td>\n",
       "      <td>30.0</td>\n",
       "      <td>48.0</td>\n",
       "      <td>38.0</td>\n",
       "      <td>7.0</td>\n",
       "      <td>NaN</td>\n",
       "      <td>43.0</td>\n",
       "    </tr>\n",
       "    <tr>\n",
       "      <th>2015/04/22-2015/04/28</th>\n",
       "      <td>0.0</td>\n",
       "      <td>193.0</td>\n",
       "      <td>59.0</td>\n",
       "      <td>50.0</td>\n",
       "      <td>53.0</td>\n",
       "      <td>51.0</td>\n",
       "      <td>61.0</td>\n",
       "      <td>26.0</td>\n",
       "      <td>NaN</td>\n",
       "      <td>NaN</td>\n",
       "      <td>63.0</td>\n",
       "    </tr>\n",
       "    <tr>\n",
       "      <th>2015/04/29-2015/05/05</th>\n",
       "      <td>0.0</td>\n",
       "      <td>165.0</td>\n",
       "      <td>57.0</td>\n",
       "      <td>48.0</td>\n",
       "      <td>52.0</td>\n",
       "      <td>50.0</td>\n",
       "      <td>32.0</td>\n",
       "      <td>NaN</td>\n",
       "      <td>NaN</td>\n",
       "      <td>NaN</td>\n",
       "      <td>57.0</td>\n",
       "    </tr>\n",
       "    <tr>\n",
       "      <th>2015/05/06-2015/05/12</th>\n",
       "      <td>0.0</td>\n",
       "      <td>137.0</td>\n",
       "      <td>59.0</td>\n",
       "      <td>44.0</td>\n",
       "      <td>55.0</td>\n",
       "      <td>25.0</td>\n",
       "      <td>3.0</td>\n",
       "      <td>NaN</td>\n",
       "      <td>NaN</td>\n",
       "      <td>NaN</td>\n",
       "      <td>41.0</td>\n",
       "    </tr>\n",
       "    <tr>\n",
       "      <th>2015/05/13-2015/05/19</th>\n",
       "      <td>0.0</td>\n",
       "      <td>137.0</td>\n",
       "      <td>51.0</td>\n",
       "      <td>44.0</td>\n",
       "      <td>44.0</td>\n",
       "      <td>12.0</td>\n",
       "      <td>NaN</td>\n",
       "      <td>NaN</td>\n",
       "      <td>NaN</td>\n",
       "      <td>NaN</td>\n",
       "      <td>48.0</td>\n",
       "    </tr>\n",
       "    <tr>\n",
       "      <th>2015/05/20-2015/05/26</th>\n",
       "      <td>0.0</td>\n",
       "      <td>192.0</td>\n",
       "      <td>64.0</td>\n",
       "      <td>62.0</td>\n",
       "      <td>33.0</td>\n",
       "      <td>NaN</td>\n",
       "      <td>NaN</td>\n",
       "      <td>NaN</td>\n",
       "      <td>NaN</td>\n",
       "      <td>NaN</td>\n",
       "      <td>71.0</td>\n",
       "    </tr>\n",
       "    <tr>\n",
       "      <th>2015/05/27-2015/06/02</th>\n",
       "      <td>0.0</td>\n",
       "      <td>174.0</td>\n",
       "      <td>57.0</td>\n",
       "      <td>45.0</td>\n",
       "      <td>1.0</td>\n",
       "      <td>NaN</td>\n",
       "      <td>NaN</td>\n",
       "      <td>NaN</td>\n",
       "      <td>NaN</td>\n",
       "      <td>NaN</td>\n",
       "      <td>71.0</td>\n",
       "    </tr>\n",
       "    <tr>\n",
       "      <th>2015/06/03-2015/06/09</th>\n",
       "      <td>0.0</td>\n",
       "      <td>190.0</td>\n",
       "      <td>60.0</td>\n",
       "      <td>12.0</td>\n",
       "      <td>NaN</td>\n",
       "      <td>NaN</td>\n",
       "      <td>NaN</td>\n",
       "      <td>NaN</td>\n",
       "      <td>NaN</td>\n",
       "      <td>NaN</td>\n",
       "      <td>76.0</td>\n",
       "    </tr>\n",
       "    <tr>\n",
       "      <th>2015/06/10-2015/06/16</th>\n",
       "      <td>0.0</td>\n",
       "      <td>200.0</td>\n",
       "      <td>32.0</td>\n",
       "      <td>NaN</td>\n",
       "      <td>NaN</td>\n",
       "      <td>NaN</td>\n",
       "      <td>NaN</td>\n",
       "      <td>NaN</td>\n",
       "      <td>NaN</td>\n",
       "      <td>NaN</td>\n",
       "      <td>64.0</td>\n",
       "    </tr>\n",
       "    <tr>\n",
       "      <th>2015/06/17-2015/06/23</th>\n",
       "      <td>0.0</td>\n",
       "      <td>217.0</td>\n",
       "      <td>1.0</td>\n",
       "      <td>NaN</td>\n",
       "      <td>NaN</td>\n",
       "      <td>NaN</td>\n",
       "      <td>NaN</td>\n",
       "      <td>NaN</td>\n",
       "      <td>NaN</td>\n",
       "      <td>NaN</td>\n",
       "      <td>50.0</td>\n",
       "    </tr>\n",
       "    <tr>\n",
       "      <th>2015/06/24-2015/06/30</th>\n",
       "      <td>0.0</td>\n",
       "      <td>163.0</td>\n",
       "      <td>NaN</td>\n",
       "      <td>NaN</td>\n",
       "      <td>NaN</td>\n",
       "      <td>NaN</td>\n",
       "      <td>NaN</td>\n",
       "      <td>NaN</td>\n",
       "      <td>NaN</td>\n",
       "      <td>NaN</td>\n",
       "      <td>12.0</td>\n",
       "    </tr>\n",
       "    <tr>\n",
       "      <th>2015/07/01-2015/07/07</th>\n",
       "      <td>0.0</td>\n",
       "      <td>186.0</td>\n",
       "      <td>NaN</td>\n",
       "      <td>NaN</td>\n",
       "      <td>NaN</td>\n",
       "      <td>NaN</td>\n",
       "      <td>NaN</td>\n",
       "      <td>NaN</td>\n",
       "      <td>NaN</td>\n",
       "      <td>NaN</td>\n",
       "      <td>NaN</td>\n",
       "    </tr>\n",
       "  </tbody>\n",
       "</table>\n",
       "</div>"
      ],
      "text/plain": [
       "date_range               0    0-6  14-20  21-27  28-34  35-41  42-48  49-55  \\\n",
       "cohort                                                                        \n",
       "2014/12/31-2015/01/06  0.0   54.0   17.0   14.0   10.0   12.0    6.0    6.0   \n",
       "2015/01/07-2015/01/13  0.0  411.0  155.0  124.0  129.0  141.0  131.0   93.0   \n",
       "2015/01/14-2015/01/20  0.0  279.0   67.0   72.0  109.0   85.0   72.0   68.0   \n",
       "2015/01/21-2015/01/27  0.0  374.0  121.0  113.0  107.0  105.0   97.0   90.0   \n",
       "2015/01/28-2015/02/03  0.0  200.0   55.0   62.0   60.0   48.0   52.0   54.0   \n",
       "2015/02/04-2015/02/10  0.0  145.0   35.0   33.0   33.0   25.0   40.0   31.0   \n",
       "2015/02/11-2015/02/17  0.0   98.0   35.0   28.0   35.0   24.0   23.0   28.0   \n",
       "2015/02/18-2015/02/24  0.0  134.0   47.0   38.0   38.0   32.0   37.0   29.0   \n",
       "2015/02/25-2015/03/03  0.0  301.0   92.0   92.0   86.0   84.0   81.0   71.0   \n",
       "2015/03/04-2015/03/10  0.0  262.0   81.0   58.0   70.0   63.0   77.0   47.0   \n",
       "2015/03/11-2015/03/17  0.0  151.0   50.0   47.0   45.0   46.0   39.0   37.0   \n",
       "2015/03/18-2015/03/24  0.0  130.0   43.0   53.0   43.0   31.0   40.0   37.0   \n",
       "2015/03/25-2015/03/31  0.0  113.0   51.0   33.0   45.0   35.0   34.0   47.0   \n",
       "2015/04/01-2015/04/07  0.0  121.0   59.0   48.0   52.0   50.0   55.0   50.0   \n",
       "2015/04/08-2015/04/14  0.0  107.0   38.0   48.0   31.0   28.0   41.0   38.0   \n",
       "2015/04/15-2015/04/21  0.0  109.0   42.0   31.0   32.0   30.0   48.0   38.0   \n",
       "2015/04/22-2015/04/28  0.0  193.0   59.0   50.0   53.0   51.0   61.0   26.0   \n",
       "2015/04/29-2015/05/05  0.0  165.0   57.0   48.0   52.0   50.0   32.0    NaN   \n",
       "2015/05/06-2015/05/12  0.0  137.0   59.0   44.0   55.0   25.0    3.0    NaN   \n",
       "2015/05/13-2015/05/19  0.0  137.0   51.0   44.0   44.0   12.0    NaN    NaN   \n",
       "2015/05/20-2015/05/26  0.0  192.0   64.0   62.0   33.0    NaN    NaN    NaN   \n",
       "2015/05/27-2015/06/02  0.0  174.0   57.0   45.0    1.0    NaN    NaN    NaN   \n",
       "2015/06/03-2015/06/09  0.0  190.0   60.0   12.0    NaN    NaN    NaN    NaN   \n",
       "2015/06/10-2015/06/16  0.0  200.0   32.0    NaN    NaN    NaN    NaN    NaN   \n",
       "2015/06/17-2015/06/23  0.0  217.0    1.0    NaN    NaN    NaN    NaN    NaN   \n",
       "2015/06/24-2015/06/30  0.0  163.0    NaN    NaN    NaN    NaN    NaN    NaN   \n",
       "2015/07/01-2015/07/07  0.0  186.0    NaN    NaN    NaN    NaN    NaN    NaN   \n",
       "\n",
       "date_range             56-62  63-69   7-13  \n",
       "cohort                                      \n",
       "2014/12/31-2015/01/06   11.0   10.0   92.0  \n",
       "2015/01/07-2015/01/13   96.0   87.0  831.0  \n",
       "2015/01/14-2015/01/20   65.0   61.0  474.0  \n",
       "2015/01/21-2015/01/27   99.0   89.0  551.0  \n",
       "2015/01/28-2015/02/03   54.0   38.0  311.0  \n",
       "2015/02/04-2015/02/10   45.0   36.0  168.0  \n",
       "2015/02/11-2015/02/17   21.0   14.0  147.0  \n",
       "2015/02/18-2015/02/24   34.0   28.0  169.0  \n",
       "2015/02/25-2015/03/03   62.0   63.0  295.0  \n",
       "2015/03/04-2015/03/10   58.0   47.0  216.0  \n",
       "2015/03/11-2015/03/17   35.0   34.0  115.0  \n",
       "2015/03/18-2015/03/24   56.0   36.0   69.0  \n",
       "2015/03/25-2015/03/31   37.0   38.0   52.0  \n",
       "2015/04/01-2015/04/07   38.0   28.0   52.0  \n",
       "2015/04/08-2015/04/14   25.0    NaN   56.0  \n",
       "2015/04/15-2015/04/21    7.0    NaN   43.0  \n",
       "2015/04/22-2015/04/28    NaN    NaN   63.0  \n",
       "2015/04/29-2015/05/05    NaN    NaN   57.0  \n",
       "2015/05/06-2015/05/12    NaN    NaN   41.0  \n",
       "2015/05/13-2015/05/19    NaN    NaN   48.0  \n",
       "2015/05/20-2015/05/26    NaN    NaN   71.0  \n",
       "2015/05/27-2015/06/02    NaN    NaN   71.0  \n",
       "2015/06/03-2015/06/09    NaN    NaN   76.0  \n",
       "2015/06/10-2015/06/16    NaN    NaN   64.0  \n",
       "2015/06/17-2015/06/23    NaN    NaN   50.0  \n",
       "2015/06/24-2015/06/30    NaN    NaN   12.0  \n",
       "2015/07/01-2015/07/07    NaN    NaN    NaN  "
      ]
     },
     "execution_count": 475,
     "metadata": {},
     "output_type": "execute_result"
    }
   ],
   "source": [
    "#d\n",
    "df4.pivot(index = 'cohort',columns = 'date_range',values = 'order_number' )\n",
    "#df.columns"
   ]
  },
  {
   "cell_type": "code",
   "execution_count": null,
   "metadata": {
    "collapsed": true
   },
   "outputs": [],
   "source": []
  }
 ],
 "metadata": {
  "anaconda-cloud": {},
  "kernelspec": {
   "display_name": "Python [conda root]",
   "language": "python",
   "name": "conda-root-py"
  },
  "language_info": {
   "codemirror_mode": {
    "name": "ipython",
    "version": 3
   },
   "file_extension": ".py",
   "mimetype": "text/x-python",
   "name": "python",
   "nbconvert_exporter": "python",
   "pygments_lexer": "ipython3",
   "version": "3.5.2"
  }
 },
 "nbformat": 4,
 "nbformat_minor": 1
}
